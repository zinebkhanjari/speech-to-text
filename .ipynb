{
  "nbformat": 4,
  "nbformat_minor": 0,
  "metadata": {
    "colab": {
      "name": "Matious_Internship_ML_<PUT_YOUR_FULLNAME_HERE>.ipynb",
      "provenance": [],
      "include_colab_link": true
    },
    "kernelspec": {
      "name": "python3",
      "display_name": "Python 3"
    }
  },
  "cells": [
    {
      "cell_type": "markdown",
      "metadata": {
        "id": "view-in-github",
        "colab_type": "text"
      },
      "source": [
        "<a href=\"https://colab.research.google.com/github/zinebkhanjari/speech-to-text/blob/main/.ipynb\" target=\"_parent\"><img src=\"https://colab.research.google.com/assets/colab-badge.svg\" alt=\"Open In Colab\"/></a>"
      ]
    },
    {
      "cell_type": "markdown",
      "metadata": {
        "id": "J-S_jOr2Ieo2"
      },
      "source": [
        "# `Introduction`"
      ]
    },
    {
      "cell_type": "markdown",
      "metadata": {
        "id": "NCqtGSvxRghJ"
      },
      "source": [
        "In this notebook, you should implement Google Cloud Speech library to transcribe an audio file, and to show the word cloud chart associated to the transcription."
      ]
    },
    {
      "cell_type": "markdown",
      "metadata": {
        "id": "ijTfnpL3SJ_S"
      },
      "source": [
        "**IMPORTANT NOTE** : You should create a copy of this notebook in your Colab account, and share your final work with the following address : ysf.bsf@gmail.com as \"Editor\""
      ]
    },
    {
      "cell_type": "markdown",
      "metadata": {
        "id": "ESKJRwq2TTFL"
      },
      "source": [
        "# Notebook Code"
      ]
    },
    {
      "cell_type": "markdown",
      "metadata": {
        "id": "L1hf-_5BIkC4"
      },
      "source": [
        "\n",
        "1- Install Google Cloud Speech\n"
      ]
    },
    {
      "cell_type": "code",
      "metadata": {
        "id": "21eZypr3RO09"
      },
      "source": [
        "# Put the library installation command here"
      ],
      "execution_count": null,
      "outputs": []
    },
    {
      "cell_type": "markdown",
      "metadata": {
        "id": "2ieFNa5XNonE"
      },
      "source": [
        "2- Transcribe the following audio file using Google Speech-to-text library : https://fr.matious.com/data/sample1.wav\n",
        "\n",
        "\n",
        "**Note :** If you are not able to create an account in Google Cloud, you can use this API credential file : https://drive.google.com/file/d/1iXJshjpo6sziZ39yD9JqCAo37brRX4Pz/view?usp=sharing\n",
        "\n"
      ]
    },
    {
      "cell_type": "code",
      "metadata": {
        "id": "OIiUUw97Ox1s"
      },
      "source": [
        "# Write the transcription script here"
      ],
      "execution_count": null,
      "outputs": []
    },
    {
      "cell_type": "markdown",
      "metadata": {
        "id": "WstU9yxwOCzy"
      },
      "source": [
        "3- Show a word cloud chart based on the occurence frequency of the words that compose the transcribed audio. Example : http://res.cloudinary.com/dyd911kmh/image/upload/f_auto,q_auto:best/v1530034171/Aromas_bfy0ec.png \n"
      ]
    },
    {
      "cell_type": "code",
      "metadata": {
        "id": "Dv_GJ-FyRUS_"
      },
      "source": [
        "# Put your code here"
      ],
      "execution_count": null,
      "outputs": []
    }
  ]
}